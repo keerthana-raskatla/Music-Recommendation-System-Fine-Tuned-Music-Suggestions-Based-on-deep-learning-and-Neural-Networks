{
 "cells": [
  {
   "cell_type": "code",
   "execution_count": 1,
   "id": "621585aa-1614-40a9-9257-66d08053f61a",
   "metadata": {},
   "outputs": [],
   "source": [
    "import sklearn\n",
    "from sklearn.preprocessing import MinMaxScaler\n",
    "from sklearn.preprocessing import LabelEncoder\n",
    "from sklearn.metrics import f1_score, accuracy_score, r2_score, mean_absolute_error\n",
    "\n",
    "from surprise import Reader, Dataset\n",
    "from surprise.model_selection import train_test_split\n",
    "from surprise.model_selection import GridSearchCV\n",
    "from surprise import SVD, accuracy\n",
    "from surprise import KNNBasic"
   ]
  },
  {
   "cell_type": "code",
   "execution_count": 2,
   "id": "866ad4d9-db95-499a-a700-a573f2158ee2",
   "metadata": {},
   "outputs": [],
   "source": [
    "import os\n",
    "import re\n",
    "\n",
    "import numpy as np\n",
    "import pandas as pd\n",
    "import tables\n",
    "\n",
    "import seaborn as sns\n",
    "import matplotlib.pyplot as plt"
   ]
  },
  {
   "cell_type": "code",
   "execution_count": 3,
   "id": "7652e78d-6d49-441d-9986-f6931b38acde",
   "metadata": {},
   "outputs": [
    {
     "name": "stderr",
     "output_type": "stream",
     "text": [
      "2023-11-20 12:15:25.702269: I tensorflow/core/platform/cpu_feature_guard.cc:182] This TensorFlow binary is optimized to use available CPU instructions in performance-critical operations.\n",
      "To enable the following instructions: AVX2 FMA, in other operations, rebuild TensorFlow with the appropriate compiler flags.\n",
      "2023-11-20 12:15:49.947971: W tensorflow/compiler/tf2tensorrt/utils/py_utils.cc:38] TF-TRT Warning: Could not find TensorRT\n"
     ]
    }
   ],
   "source": [
    "from gensim.models import FastText\n",
    "\n",
    "from tensorflow.keras import backend as K\n",
    "from tensorflow import keras\n",
    "from tensorflow.keras.optimizers import Adam\n",
    "import tensorflow as tf\n",
    "from tensorflow.keras.layers import Dense, Flatten, Input, Embedding, Concatenate, Dropout\n",
    "from tensorflow.keras.callbacks import EarlyStopping\n",
    "from tensorflow.keras.optimizers import Adam\n",
    "\n",
    "from tensorflow.keras.layers import Add, Activation, Lambda, BatchNormalization, Concatenate, Dropout, Input, Embedding, Dot, Reshape, Dense, Flatten\n",
    "from tensorflow.keras import regularizers\n",
    "\n",
    "from tensorflow.keras.callbacks import LambdaCallback\n",
    "from tensorflow.keras.utils import plot_model"
   ]
  },
  {
   "cell_type": "markdown",
   "id": "e586bd1c-ef0c-413a-91cd-4267584e7d5d",
   "metadata": {},
   "source": [
    "# Taste profile dataset"
   ]
  },
  {
   "cell_type": "code",
   "execution_count": 4,
   "id": "1014924f-8d7c-4f42-8cac-495d4a8b9f13",
   "metadata": {},
   "outputs": [
    {
     "data": {
      "text/plain": [
       "(2000000, 3)"
      ]
     },
     "execution_count": 4,
     "metadata": {},
     "output_type": "execute_result"
    }
   ],
   "source": [
    "taste_profile_df = pd.read_csv('/home/016651544/DATA-270/datasets/train_triplets.txt', sep='\\t', header=None, names = ['user_id','song_id','play_count'], nrows = 2000000)\n",
    "taste_profile_df.shape\n"
   ]
  },
  {
   "cell_type": "markdown",
   "id": "cc75ecfb-4a8a-407b-b05e-9e2113e8e4a2",
   "metadata": {},
   "source": [
    "# Metadata"
   ]
  },
  {
   "cell_type": "code",
   "execution_count": 5,
   "id": "4e3f0a7f-578e-420a-9806-b6a32d94ffb7",
   "metadata": {},
   "outputs": [
    {
     "data": {
      "text/plain": [
       "(1000000, 20)"
      ]
     },
     "execution_count": 5,
     "metadata": {},
     "output_type": "execute_result"
    }
   ],
   "source": [
    "song_data_df = tables.open_file(\"/home/016651544/DATA-270/datasets/msd_summary_file.h5\", mode=\"r\")\n",
    "song_data_table = song_data_df.root.metadata.songs\n",
    "metadata_table_df = pd.DataFrame.from_records(song_data_table[:])\n",
    "metadata_table_df.shape"
   ]
  },
  {
   "cell_type": "code",
   "execution_count": 6,
   "id": "dc9ce817-d3aa-42f3-bdf8-8f87729fb9da",
   "metadata": {},
   "outputs": [
    {
     "data": {
      "text/plain": [
       "(1000000, 14)"
      ]
     },
     "execution_count": 6,
     "metadata": {},
     "output_type": "execute_result"
    }
   ],
   "source": [
    "track_metadata = pd.read_csv('/home/016651544/DATA-270/datasets/track_metadata.csv')\n",
    "track_metadata.shape"
   ]
  },
  {
   "cell_type": "code",
   "execution_count": 7,
   "id": "f0691f75-84b7-4879-b4a3-0de807d52fb3",
   "metadata": {},
   "outputs": [
    {
     "data": {
      "text/plain": [
       "track_id               object\n",
       "title                  object\n",
       "song_id                object\n",
       "release                object\n",
       "artist_id              object\n",
       "artist_mbid            object\n",
       "artist_name            object\n",
       "duration              float64\n",
       "artist_familiarity    float64\n",
       "artist_hotttnesss     float64\n",
       "year                    int64\n",
       "track_7digitalid        int64\n",
       "shs_perf                int64\n",
       "shs_work                int64\n",
       "dtype: object"
      ]
     },
     "execution_count": 7,
     "metadata": {},
     "output_type": "execute_result"
    }
   ],
   "source": [
    "track_metadata.dtypes"
   ]
  },
  {
   "cell_type": "code",
   "execution_count": 8,
   "id": "62764559-867e-485a-9a4b-bf3eaed9d75f",
   "metadata": {},
   "outputs": [
    {
     "data": {
      "text/plain": [
       "(2052374, 35)"
      ]
     },
     "execution_count": 8,
     "metadata": {},
     "output_type": "execute_result"
    }
   ],
   "source": [
    "track_merge = pd.merge(track_metadata, taste_profile_df, on='song_id', how=\"right\")\n",
    "song_data = pd.merge(metadata_table_df, track_merge, on='song_id', how=\"right\")\n",
    "song_data.shape"
   ]
  },
  {
   "cell_type": "markdown",
   "id": "7ae8b017-83f5-4685-a855-b286d7485a09",
   "metadata": {},
   "source": [
    "## Lyrics Data"
   ]
  },
  {
   "cell_type": "code",
   "execution_count": 9,
   "id": "1dae05af-c9b6-4dbd-b947-067a219a8862",
   "metadata": {},
   "outputs": [
    {
     "data": {
      "text/plain": [
       "(779056, 6)"
      ]
     },
     "execution_count": 9,
     "metadata": {},
     "output_type": "execute_result"
    }
   ],
   "source": [
    "mxm_matches = pd.read_csv(r\"/home/016651544/DATA-270/datasets/mxm_779k_matches.csv\")\n",
    "mxm_matches.shape"
   ]
  },
  {
   "cell_type": "code",
   "execution_count": null,
   "id": "a1c964e4-18b2-412c-8c06-847574a27c58",
   "metadata": {},
   "outputs": [],
   "source": []
  }
 ],
 "metadata": {
  "kernelspec": {
   "display_name": "Python 3 (ipykernel)",
   "language": "python",
   "name": "python3"
  },
  "language_info": {
   "codemirror_mode": {
    "name": "ipython",
    "version": 3
   },
   "file_extension": ".py",
   "mimetype": "text/x-python",
   "name": "python",
   "nbconvert_exporter": "python",
   "pygments_lexer": "ipython3",
   "version": "3.10.9"
  }
 },
 "nbformat": 4,
 "nbformat_minor": 5
}
